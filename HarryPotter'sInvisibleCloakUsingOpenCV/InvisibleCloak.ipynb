{
 "cells": [
  {
   "cell_type": "markdown",
   "source": [
    "# Project Name: Harry Potter’s Invisible Cloak using OpenCV – Python Project\n",
    "<p>Are you fascinated with Harry Potter’s Invisible Cloak?\n",
    "\n",
    "Do you want to wear that cloak?\n",
    "\n",
    "If Yes!! then in this python project, we will develop invisible cloak using OpenCV using which you will become invisible.</p>\n",
    "## About Invisible Cloak Project\n",
    "* We will create the invisible cloak using an image processing technique called Color detection and segmentation. In order to make this project, you’ll need a single-color cloth. The cloth should not contain any other color visible. Here we are using a green cloth to develop this python project.\n",
    "\n",
    "###  Project Prerequisites:\n",
    "#### Python – 3.x (we used Python 3.7.10 in this project)\n",
    "####  Numpy – 1.19.2\n",
    "####  OpenCV – 4.5\n",
    "####  To install opencv, run the below command. Numpy will be automatically installed."
   ],
   "metadata": {}
  },
  {
   "cell_type": "markdown",
   "source": [
    "* pip install opencv-python"
   ],
   "metadata": {}
  },
  {
   "cell_type": "markdown",
   "source": [
    " <h2> Step 1 - İmport necessary packages and initialize the camera </h2>"
   ],
   "metadata": {}
  },
  {
   "cell_type": "code",
   "execution_count": 1,
   "source": [
    " # DataFlair Invisible Cloak project using OpenCV.\r\n",
    "import cv2\r\n",
    "import time\r\n",
    "import numpy as np\r\n",
    "cap = cv2.VideoCapture(0)"
   ],
   "outputs": [],
   "metadata": {}
  },
  {
   "cell_type": "markdown",
   "source": [
    "<h2>Step 2 - Store a single frame before starting the infinite loop</h2>"
   ],
   "metadata": {}
  },
  {
   "cell_type": "code",
   "execution_count": 3,
   "source": [
    "_, background = cap.read()\r\n",
    "time.sleep(2)\r\n",
    "_, background = cap.read()\r\n",
    "while cap.isOpened():\r\n",
    "    _, frame = cap.read()\r\n",
    "hsv = cv2.cvtColor(frame, cv2.COLOR_BGR2HSV)\r\n",
    "lower_bound = np.array([50, 80, 50])     \r\n",
    "upper_bound = np.array([90, 255, 255])\r\n",
    "mask = cv2.inRange(hsv, lower_bound, upper_bound)\r\n",
    "\r\n",
    "# Apply the mask to take only those region from the saved background \r\n",
    "# where our cloak is present in the current frame\r\n",
    "cloak = cv2.bitwise_and(background, background, mask=mask)\r\n",
    "\r\n",
    "# create inverse mask \r\n",
    "inverse_mask = cv2.bitwise_not(mask)  \r\n",
    "\r\n",
    "# Apply the inverse mask to take those region of the current frame where cloak is # not present \r\n",
    "current_background = cv2.bitwise_and(frame, frame, mask=inverse_mask)\r\n",
    "\r\n",
    "combined = cv2.add(cloak, current_background)\r\n",
    "\r\n",
    "open_kernel = np.ones((5,5),np.uint8)\r\n",
    "close_kernel = np.ones((7,7),np.uint8)\r\n",
    "dilation_kernel = np.ones((10, 10), np.uint8)\r\n",
    "\r\n",
    "def filter_mask(mask):\r\n",
    "\r\n",
    "    close_mask = cv2.morphologyEx(mask, cv2.MORPH_CLOSE, close_kernel)\r\n",
    "    open_mask = cv2.morphologyEx(close_mask, cv2.MORPH_OPEN, open_kernel)\r\n",
    "    dilation = cv2.dilate(open_mask, dilation_kernel, iterations= 1)\r\n",
    "    return dilation\r\n",
    "\r\n",
    "\r\n",
    "\r\n"
   ],
   "outputs": [
    {
     "output_type": "error",
     "ename": "KeyboardInterrupt",
     "evalue": "",
     "traceback": [
      "\u001b[1;31m---------------------------------------------------------------------------\u001b[0m",
      "\u001b[1;31mKeyboardInterrupt\u001b[0m                         Traceback (most recent call last)",
      "\u001b[1;32m~\\AppData\\Local\\Temp/ipykernel_19536/3183180489.py\u001b[0m in \u001b[0;36m<module>\u001b[1;34m\u001b[0m\n\u001b[0;32m      3\u001b[0m \u001b[0m_\u001b[0m\u001b[1;33m,\u001b[0m \u001b[0mbackground\u001b[0m \u001b[1;33m=\u001b[0m \u001b[0mcap\u001b[0m\u001b[1;33m.\u001b[0m\u001b[0mread\u001b[0m\u001b[1;33m(\u001b[0m\u001b[1;33m)\u001b[0m\u001b[1;33m\u001b[0m\u001b[1;33m\u001b[0m\u001b[0m\n\u001b[0;32m      4\u001b[0m \u001b[1;32mwhile\u001b[0m \u001b[0mcap\u001b[0m\u001b[1;33m.\u001b[0m\u001b[0misOpened\u001b[0m\u001b[1;33m(\u001b[0m\u001b[1;33m)\u001b[0m\u001b[1;33m:\u001b[0m\u001b[1;33m\u001b[0m\u001b[1;33m\u001b[0m\u001b[0m\n\u001b[1;32m----> 5\u001b[1;33m     \u001b[0m_\u001b[0m\u001b[1;33m,\u001b[0m \u001b[0mframe\u001b[0m \u001b[1;33m=\u001b[0m \u001b[0mcap\u001b[0m\u001b[1;33m.\u001b[0m\u001b[0mread\u001b[0m\u001b[1;33m(\u001b[0m\u001b[1;33m)\u001b[0m\u001b[1;33m\u001b[0m\u001b[1;33m\u001b[0m\u001b[0m\n\u001b[0m\u001b[0;32m      6\u001b[0m \u001b[0mhsv\u001b[0m \u001b[1;33m=\u001b[0m \u001b[0mcv2\u001b[0m\u001b[1;33m.\u001b[0m\u001b[0mcvtColor\u001b[0m\u001b[1;33m(\u001b[0m\u001b[0mframe\u001b[0m\u001b[1;33m,\u001b[0m \u001b[0mcv2\u001b[0m\u001b[1;33m.\u001b[0m\u001b[0mCOLOR_BGR2HSV\u001b[0m\u001b[1;33m)\u001b[0m\u001b[1;33m\u001b[0m\u001b[1;33m\u001b[0m\u001b[0m\n\u001b[0;32m      7\u001b[0m \u001b[0mlower_bound\u001b[0m \u001b[1;33m=\u001b[0m \u001b[0mnp\u001b[0m\u001b[1;33m.\u001b[0m\u001b[0marray\u001b[0m\u001b[1;33m(\u001b[0m\u001b[1;33m[\u001b[0m\u001b[1;36m50\u001b[0m\u001b[1;33m,\u001b[0m \u001b[1;36m80\u001b[0m\u001b[1;33m,\u001b[0m \u001b[1;36m50\u001b[0m\u001b[1;33m]\u001b[0m\u001b[1;33m)\u001b[0m\u001b[1;33m\u001b[0m\u001b[1;33m\u001b[0m\u001b[0m\n",
      "\u001b[1;31mKeyboardInterrupt\u001b[0m: "
     ]
    }
   ],
   "metadata": {}
  },
  {
   "cell_type": "code",
   "execution_count": null,
   "source": [],
   "outputs": [],
   "metadata": {}
  }
 ],
 "metadata": {
  "kernelspec": {
   "name": "python3",
   "display_name": "Python 3.9.6 64-bit (windows store)"
  },
  "language_info": {
   "codemirror_mode": {
    "name": "ipython",
    "version": 3
   },
   "file_extension": ".py",
   "mimetype": "text/x-python",
   "name": "python",
   "nbconvert_exporter": "python",
   "pygments_lexer": "ipython3",
   "version": "3.9.7"
  },
  "interpreter": {
   "hash": "987cbd703dfba44d9b85abc3dca62ccaba18865537b5bf4fce303cb64e6f6229"
  }
 },
 "nbformat": 4,
 "nbformat_minor": 5
}